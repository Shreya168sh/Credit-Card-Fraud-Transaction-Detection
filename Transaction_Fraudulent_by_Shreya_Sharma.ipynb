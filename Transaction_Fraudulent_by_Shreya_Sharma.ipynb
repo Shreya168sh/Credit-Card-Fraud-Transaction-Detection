{
  "nbformat": 4,
  "nbformat_minor": 0,
  "metadata": {
    "colab": {
      "name": "Transaction Fraudulent by Shreya Sharma.ipynb",
      "provenance": [],
      "collapsed_sections": []
    },
    "kernelspec": {
      "display_name": "Python 3",
      "name": "python3"
    }
  },
  "cells": [
    {
      "cell_type": "markdown",
      "metadata": {
        "id": "TQdbHGujdcLa"
      },
      "source": [
        ""
      ]
    },
    {
      "cell_type": "code",
      "metadata": {
        "id": "sgEOgmYhpNfj"
      },
      "source": [
        "#Importing Libraries\r\n",
        "import pandas as pd\r\n",
        "import numpy as np\r\n",
        "import matplotlib.pyplot as plt\r\n",
        "import seaborn as sns\r\n",
        "from sklearn.model_selection import train_test_split\r\n",
        "from sklearn.metrics import classification_report, accuracy_score  \r\n",
        "from sklearn.metrics import precision_score, recall_score \r\n",
        "from sklearn.metrics import f1_score, matthews_corrcoef \r\n",
        "from sklearn.metrics import confusion_matrix \r\n",
        "import sklearn.metrics as metrics\r\n",
        "from sklearn.ensemble import RandomForestClassifier \r\n",
        "from sklearn.linear_model import LogisticRegression\r\n",
        "from sklearn.tree import DecisionTreeClassifier \r\n",
        "from imblearn.over_sampling import SMOTE"
      ],
      "execution_count": null,
      "outputs": []
    },
    {
      "cell_type": "code",
      "metadata": {
        "colab": {
          "base_uri": "https://localhost:8080/"
        },
        "id": "Tj8f6-0YshO7",
        "outputId": "8a6902ac-a72d-46ad-992d-50a6aa9f7773"
      },
      "source": [
        "#Mount Drive\n",
        "from google.colab import drive\n",
        "drive.mount('/content/drive')"
      ],
      "execution_count": null,
      "outputs": [
        {
          "output_type": "stream",
          "text": [
            "Drive already mounted at /content/drive; to attempt to forcibly remount, call drive.mount(\"/content/drive\", force_remount=True).\n"
          ],
          "name": "stdout"
        }
      ]
    },
    {
      "cell_type": "code",
      "metadata": {
        "colab": {
          "base_uri": "https://localhost:8080/",
          "height": 215
        },
        "id": "qjpYOOqPpm9A",
        "outputId": "ad37291b-8750-47d4-db1f-2bb67c9d5cc7"
      },
      "source": [
        "#Load the dataset\r\n",
        "train_transaction = pd.read_csv(\"/content/drive/MyDrive/Datasets/machine_learning_india_ai_challenge-dataset/TRAIN.csv\")\r\n",
        "train_transaction.head()"
      ],
      "execution_count": null,
      "outputs": [
        {
          "output_type": "execute_result",
          "data": {
            "text/html": [
              "<div>\n",
              "<style scoped>\n",
              "    .dataframe tbody tr th:only-of-type {\n",
              "        vertical-align: middle;\n",
              "    }\n",
              "\n",
              "    .dataframe tbody tr th {\n",
              "        vertical-align: top;\n",
              "    }\n",
              "\n",
              "    .dataframe thead th {\n",
              "        text-align: right;\n",
              "    }\n",
              "</style>\n",
              "<table border=\"1\" class=\"dataframe\">\n",
              "  <thead>\n",
              "    <tr style=\"text-align: right;\">\n",
              "      <th></th>\n",
              "      <th>Index</th>\n",
              "      <th>V1</th>\n",
              "      <th>V2</th>\n",
              "      <th>V3</th>\n",
              "      <th>V4</th>\n",
              "      <th>V5</th>\n",
              "      <th>V6</th>\n",
              "      <th>V7</th>\n",
              "      <th>V8</th>\n",
              "      <th>V9</th>\n",
              "      <th>V10</th>\n",
              "      <th>V11</th>\n",
              "      <th>V12</th>\n",
              "      <th>V13</th>\n",
              "      <th>V14</th>\n",
              "      <th>V15</th>\n",
              "      <th>V16</th>\n",
              "      <th>V17</th>\n",
              "      <th>V18</th>\n",
              "      <th>V19</th>\n",
              "      <th>V20</th>\n",
              "      <th>V21</th>\n",
              "      <th>V22</th>\n",
              "      <th>V23</th>\n",
              "      <th>V24</th>\n",
              "      <th>V25</th>\n",
              "      <th>V26</th>\n",
              "      <th>V27</th>\n",
              "      <th>V28</th>\n",
              "      <th>Amount</th>\n",
              "      <th>Class</th>\n",
              "    </tr>\n",
              "  </thead>\n",
              "  <tbody>\n",
              "    <tr>\n",
              "      <th>0</th>\n",
              "      <td>0</td>\n",
              "      <td>2.245295</td>\n",
              "      <td>-1.160960</td>\n",
              "      <td>-1.966682</td>\n",
              "      <td>-1.430190</td>\n",
              "      <td>-0.607246</td>\n",
              "      <td>-1.508696</td>\n",
              "      <td>-0.074415</td>\n",
              "      <td>-0.655096</td>\n",
              "      <td>-1.970141</td>\n",
              "      <td>1.607283</td>\n",
              "      <td>-0.780267</td>\n",
              "      <td>-0.294928</td>\n",
              "      <td>1.236719</td>\n",
              "      <td>-0.135565</td>\n",
              "      <td>-0.832677</td>\n",
              "      <td>-1.400205</td>\n",
              "      <td>0.807960</td>\n",
              "      <td>-0.670317</td>\n",
              "      <td>-0.044106</td>\n",
              "      <td>-0.292081</td>\n",
              "      <td>0.010490</td>\n",
              "      <td>0.521714</td>\n",
              "      <td>-0.064971</td>\n",
              "      <td>0.048849</td>\n",
              "      <td>0.383290</td>\n",
              "      <td>0.103970</td>\n",
              "      <td>-0.047350</td>\n",
              "      <td>-0.064800</td>\n",
              "      <td>74.75</td>\n",
              "      <td>0</td>\n",
              "    </tr>\n",
              "    <tr>\n",
              "      <th>1</th>\n",
              "      <td>1</td>\n",
              "      <td>1.278609</td>\n",
              "      <td>0.102574</td>\n",
              "      <td>0.512079</td>\n",
              "      <td>0.003930</td>\n",
              "      <td>-0.723474</td>\n",
              "      <td>-1.334105</td>\n",
              "      <td>0.029958</td>\n",
              "      <td>-0.296595</td>\n",
              "      <td>0.128119</td>\n",
              "      <td>-0.209865</td>\n",
              "      <td>0.188511</td>\n",
              "      <td>0.674525</td>\n",
              "      <td>0.712608</td>\n",
              "      <td>0.122319</td>\n",
              "      <td>1.038024</td>\n",
              "      <td>0.128638</td>\n",
              "      <td>-0.222614</td>\n",
              "      <td>-0.687546</td>\n",
              "      <td>-0.056504</td>\n",
              "      <td>-0.040015</td>\n",
              "      <td>-0.081470</td>\n",
              "      <td>-0.182506</td>\n",
              "      <td>0.078986</td>\n",
              "      <td>0.789993</td>\n",
              "      <td>0.219794</td>\n",
              "      <td>0.938359</td>\n",
              "      <td>-0.078720</td>\n",
              "      <td>0.008119</td>\n",
              "      <td>1.38</td>\n",
              "      <td>0</td>\n",
              "    </tr>\n",
              "    <tr>\n",
              "      <th>2</th>\n",
              "      <td>2</td>\n",
              "      <td>1.466457</td>\n",
              "      <td>0.026088</td>\n",
              "      <td>-0.499298</td>\n",
              "      <td>-0.674372</td>\n",
              "      <td>-0.144883</td>\n",
              "      <td>-1.178075</td>\n",
              "      <td>0.058089</td>\n",
              "      <td>-0.420145</td>\n",
              "      <td>-1.359651</td>\n",
              "      <td>0.210249</td>\n",
              "      <td>-0.033777</td>\n",
              "      <td>-0.001594</td>\n",
              "      <td>1.767471</td>\n",
              "      <td>-1.212943</td>\n",
              "      <td>0.427684</td>\n",
              "      <td>1.252714</td>\n",
              "      <td>0.843412</td>\n",
              "      <td>-1.534474</td>\n",
              "      <td>0.830734</td>\n",
              "      <td>0.207653</td>\n",
              "      <td>-0.234087</td>\n",
              "      <td>-0.710542</td>\n",
              "      <td>-0.001242</td>\n",
              "      <td>-0.174713</td>\n",
              "      <td>0.533719</td>\n",
              "      <td>-0.454779</td>\n",
              "      <td>0.001524</td>\n",
              "      <td>0.030935</td>\n",
              "      <td>10.95</td>\n",
              "      <td>0</td>\n",
              "    </tr>\n",
              "    <tr>\n",
              "      <th>3</th>\n",
              "      <td>3</td>\n",
              "      <td>-0.922137</td>\n",
              "      <td>-0.371579</td>\n",
              "      <td>2.132018</td>\n",
              "      <td>-0.796997</td>\n",
              "      <td>0.324175</td>\n",
              "      <td>-1.162006</td>\n",
              "      <td>0.277208</td>\n",
              "      <td>-0.249586</td>\n",
              "      <td>-0.775648</td>\n",
              "      <td>-0.061757</td>\n",
              "      <td>-0.959725</td>\n",
              "      <td>0.408746</td>\n",
              "      <td>0.597641</td>\n",
              "      <td>-0.802430</td>\n",
              "      <td>-1.889520</td>\n",
              "      <td>-1.607785</td>\n",
              "      <td>-0.401475</td>\n",
              "      <td>0.729773</td>\n",
              "      <td>-2.445693</td>\n",
              "      <td>-0.461062</td>\n",
              "      <td>-0.302654</td>\n",
              "      <td>-0.246899</td>\n",
              "      <td>-0.045745</td>\n",
              "      <td>0.677110</td>\n",
              "      <td>0.016109</td>\n",
              "      <td>-0.734220</td>\n",
              "      <td>-0.034480</td>\n",
              "      <td>-0.064786</td>\n",
              "      <td>8.04</td>\n",
              "      <td>0</td>\n",
              "    </tr>\n",
              "    <tr>\n",
              "      <th>4</th>\n",
              "      <td>4</td>\n",
              "      <td>-1.166525</td>\n",
              "      <td>0.255439</td>\n",
              "      <td>2.108464</td>\n",
              "      <td>0.135019</td>\n",
              "      <td>-0.072979</td>\n",
              "      <td>0.910821</td>\n",
              "      <td>0.755918</td>\n",
              "      <td>0.355528</td>\n",
              "      <td>-0.422820</td>\n",
              "      <td>-0.842826</td>\n",
              "      <td>0.663538</td>\n",
              "      <td>0.624657</td>\n",
              "      <td>0.107262</td>\n",
              "      <td>-0.073654</td>\n",
              "      <td>-0.305506</td>\n",
              "      <td>0.618642</td>\n",
              "      <td>-0.952529</td>\n",
              "      <td>0.757618</td>\n",
              "      <td>-0.375461</td>\n",
              "      <td>0.353355</td>\n",
              "      <td>0.136470</td>\n",
              "      <td>0.017496</td>\n",
              "      <td>0.121017</td>\n",
              "      <td>0.636266</td>\n",
              "      <td>0.492943</td>\n",
              "      <td>-0.750242</td>\n",
              "      <td>0.029124</td>\n",
              "      <td>0.091303</td>\n",
              "      <td>175.00</td>\n",
              "      <td>0</td>\n",
              "    </tr>\n",
              "  </tbody>\n",
              "</table>\n",
              "</div>"
            ],
            "text/plain": [
              "   Index        V1        V2        V3  ...       V27       V28  Amount  Class\n",
              "0      0  2.245295 -1.160960 -1.966682  ... -0.047350 -0.064800   74.75      0\n",
              "1      1  1.278609  0.102574  0.512079  ... -0.078720  0.008119    1.38      0\n",
              "2      2  1.466457  0.026088 -0.499298  ...  0.001524  0.030935   10.95      0\n",
              "3      3 -0.922137 -0.371579  2.132018  ... -0.034480 -0.064786    8.04      0\n",
              "4      4 -1.166525  0.255439  2.108464  ...  0.029124  0.091303  175.00      0\n",
              "\n",
              "[5 rows x 31 columns]"
            ]
          },
          "metadata": {
            "tags": []
          },
          "execution_count": 50
        }
      ]
    },
    {
      "cell_type": "code",
      "metadata": {
        "colab": {
          "base_uri": "https://localhost:8080/"
        },
        "id": "q4-O8-_itVvA",
        "outputId": "f9eab0fb-9fd1-47a3-9178-18b7a73aaeaf"
      },
      "source": [
        "#Total Columns in dataset\r\n",
        "train_transaction.columns"
      ],
      "execution_count": null,
      "outputs": [
        {
          "output_type": "execute_result",
          "data": {
            "text/plain": [
              "Index(['Index', 'V1', 'V2', 'V3', 'V4', 'V5', 'V6', 'V7', 'V8', 'V9', 'V10',\n",
              "       'V11', 'V12', 'V13', 'V14', 'V15', 'V16', 'V17', 'V18', 'V19', 'V20',\n",
              "       'V21', 'V22', 'V23', 'V24', 'V25', 'V26', 'V27', 'V28', 'Amount',\n",
              "       'Class'],\n",
              "      dtype='object')"
            ]
          },
          "metadata": {
            "tags": []
          },
          "execution_count": 51
        }
      ]
    },
    {
      "cell_type": "code",
      "metadata": {
        "colab": {
          "base_uri": "https://localhost:8080/"
        },
        "id": "kOUVQfJ_s_VV",
        "outputId": "9a1d766c-887b-4eb4-e8c8-679f85a64081"
      },
      "source": [
        "train_transaction.info()"
      ],
      "execution_count": null,
      "outputs": [
        {
          "output_type": "stream",
          "text": [
            "<class 'pandas.core.frame.DataFrame'>\n",
            "RangeIndex: 284455 entries, 0 to 284454\n",
            "Data columns (total 31 columns):\n",
            " #   Column  Non-Null Count   Dtype  \n",
            "---  ------  --------------   -----  \n",
            " 0   Index   284455 non-null  int64  \n",
            " 1   V1      284455 non-null  float64\n",
            " 2   V2      284455 non-null  float64\n",
            " 3   V3      284455 non-null  float64\n",
            " 4   V4      284455 non-null  float64\n",
            " 5   V5      284455 non-null  float64\n",
            " 6   V6      284455 non-null  float64\n",
            " 7   V7      284455 non-null  float64\n",
            " 8   V8      284455 non-null  float64\n",
            " 9   V9      284455 non-null  float64\n",
            " 10  V10     284455 non-null  float64\n",
            " 11  V11     284455 non-null  float64\n",
            " 12  V12     284455 non-null  float64\n",
            " 13  V13     284455 non-null  float64\n",
            " 14  V14     284455 non-null  float64\n",
            " 15  V15     284455 non-null  float64\n",
            " 16  V16     284455 non-null  float64\n",
            " 17  V17     284455 non-null  float64\n",
            " 18  V18     284455 non-null  float64\n",
            " 19  V19     284455 non-null  float64\n",
            " 20  V20     284455 non-null  float64\n",
            " 21  V21     284455 non-null  float64\n",
            " 22  V22     284455 non-null  float64\n",
            " 23  V23     284455 non-null  float64\n",
            " 24  V24     284455 non-null  float64\n",
            " 25  V25     284455 non-null  float64\n",
            " 26  V26     284455 non-null  float64\n",
            " 27  V27     284455 non-null  float64\n",
            " 28  V28     284455 non-null  float64\n",
            " 29  Amount  284455 non-null  float64\n",
            " 30  Class   284455 non-null  int64  \n",
            "dtypes: float64(29), int64(2)\n",
            "memory usage: 67.3 MB\n"
          ],
          "name": "stdout"
        }
      ]
    },
    {
      "cell_type": "code",
      "metadata": {
        "colab": {
          "base_uri": "https://localhost:8080/"
        },
        "id": "j0tPyK7otY6m",
        "outputId": "d6ef086c-6ad2-470d-9943-9c40901d749e"
      },
      "source": [
        "#Missing data percenatge list if any\r\n",
        "for col in train_transaction.columns:\r\n",
        "    pct_missing = np.mean(train_transaction[col].isnull())\r\n",
        "    print('{} - {}%'.format(col, round(pct_missing*100)))"
      ],
      "execution_count": null,
      "outputs": [
        {
          "output_type": "stream",
          "text": [
            "Index - 0%\n",
            "V1 - 0%\n",
            "V2 - 0%\n",
            "V3 - 0%\n",
            "V4 - 0%\n",
            "V5 - 0%\n",
            "V6 - 0%\n",
            "V7 - 0%\n",
            "V8 - 0%\n",
            "V9 - 0%\n",
            "V10 - 0%\n",
            "V11 - 0%\n",
            "V12 - 0%\n",
            "V13 - 0%\n",
            "V14 - 0%\n",
            "V15 - 0%\n",
            "V16 - 0%\n",
            "V17 - 0%\n",
            "V18 - 0%\n",
            "V19 - 0%\n",
            "V20 - 0%\n",
            "V21 - 0%\n",
            "V22 - 0%\n",
            "V23 - 0%\n",
            "V24 - 0%\n",
            "V25 - 0%\n",
            "V26 - 0%\n",
            "V27 - 0%\n",
            "V28 - 0%\n",
            "Amount - 0%\n",
            "Class - 0%\n"
          ],
          "name": "stdout"
        }
      ]
    },
    {
      "cell_type": "code",
      "metadata": {
        "colab": {
          "base_uri": "https://localhost:8080/"
        },
        "id": "ntkYxBLquI7J",
        "outputId": "953293d7-46f4-4737-feaa-a6fd464d9bac"
      },
      "source": [
        "#Total no. of values in each class\r\n",
        "label_1,label_0 = train_transaction[\"Class\"].value_counts()\r\n",
        "print(\"Class 1:\\t\"+str(label_1),\"\\nClass 0:\\t\"+str(label_0))\r\n",
        "print(\"Label 1 class Percentage(%): \"+str((label_1*100)/train_transaction[\"Class\"].count()))\r\n",
        "print(\"Label 0 class Percentage(%): \"+str((label_0*100)/train_transaction[\"Class\"].count()))"
      ],
      "execution_count": null,
      "outputs": [
        {
          "output_type": "stream",
          "text": [
            "Class 1:\t284015 \n",
            "Class 0:\t440\n",
            "Label 1 class Percentage(%): 99.84531824014343\n",
            "Label 0 class Percentage(%): 0.15468175985656782\n"
          ],
          "name": "stdout"
        }
      ]
    },
    {
      "cell_type": "code",
      "metadata": {
        "colab": {
          "base_uri": "https://localhost:8080/",
          "height": 369
        },
        "id": "S_QpNl7xC1CT",
        "outputId": "15150b41-eff3-48e7-ebe4-922ec5166d25"
      },
      "source": [
        "#Visulatization of label 0 and label 1 with respect to 'Amount'.\r\n",
        "fn = sns.FacetGrid(train_transaction, col = 'Class', height=5)\r\n",
        "fn = fn.map(plt.plot,'Amount',color = 'maroon')"
      ],
      "execution_count": null,
      "outputs": [
        {
          "output_type": "display_data",
          "data": {
            "image/png": "[encoded data removed]",
            "text/plain": [
              "<Figure size 720x360 with 2 Axes>"
            ]
          },
          "metadata": {
            "tags": []
          }
        }
      ]
    },
    {
      "cell_type": "code",
      "metadata": {
        "id": "cpB_hzZ2FIy9"
      },
      "source": [
        "X = train_transaction.drop([\"Class\"], axis = 1) \r\n",
        "Y = train_transaction[\"Class\"] "
      ],
      "execution_count": null,
      "outputs": []
    },
    {
      "cell_type": "code",
      "metadata": {
        "id": "3kNLc6deDDWp"
      },
      "source": [
        "#Train_test_split\r\n",
        "X_train, X_test, Y_train, Y_test = train_test_split(X, Y, test_size = 0.25, random_state = 55 , stratify = Y)"
      ],
      "execution_count": null,
      "outputs": []
    },
    {
      "cell_type": "code",
      "metadata": {
        "colab": {
          "base_uri": "https://localhost:8080/"
        },
        "id": "QKbil1J6ERWJ",
        "outputId": "92161955-a205-47d0-ec56-aa1b44e431a3"
      },
      "source": [
        "print(\"Train Feature set:\\t\"+str(len(X_train)))\r\n",
        "print(\"Train Label Feature set:\\t\"+str(len(Y_train)))\r\n",
        "print(\"Test Feature set:\\t\"+str(len(X_test)))\r\n",
        "print(\"Test label set:\\t\"+str(len(Y_test)))"
      ],
      "execution_count": null,
      "outputs": [
        {
          "output_type": "stream",
          "text": [
            "Train Feature set:\t213341\n",
            "Train Label Feature set:\t213341\n",
            "Test Feature set:\t71114\n",
            "Test label set:\t71114\n"
          ],
          "name": "stdout"
        }
      ]
    },
    {
      "cell_type": "code",
      "metadata": {
        "colab": {
          "base_uri": "https://localhost:8080/"
        },
        "id": "6IvIUBfLEcIP",
        "outputId": "86e9078f-6cfb-472b-f089-47408961c7f0"
      },
      "source": [
        "#Stratified Sampling\r\n",
        "print(\"For Training Data :\")\r\n",
        "print(Y_train.value_counts())\r\n",
        "label_1,label_0 = Y_train.value_counts()\r\n",
        "print(\"Label 1 class Percentage: \"+str((label_1*100)/Y_train.count()))\r\n",
        "print(\"Label 0 class Percentage: \"+str((label_0*100)/Y_train.count()))\r\n",
        "print(\"\\nFor Test Set :\")\r\n",
        "print(Y_test.value_counts())\r\n",
        "lbl_1,lbl_0 = Y_test.value_counts()\r\n",
        "print(\"Label 1 class Percentage: \"+str((label_1*100)/Y_test.count()))\r\n",
        "print(\"Label 0 class Percentage: \"+str((label_0*100)/Y_test.count()))"
      ],
      "execution_count": null,
      "outputs": [
        {
          "output_type": "stream",
          "text": [
            "For Training Data :\n",
            "0    213011\n",
            "1       330\n",
            "Name: Class, dtype: int64\n",
            "Label 1 class Percentage: 99.84531805888226\n",
            "Label 0 class Percentage: 0.15468194111774108\n",
            "\n",
            "For Test Set :\n",
            "0    71004\n",
            "1      110\n",
            "Name: Class, dtype: int64\n",
            "Label 1 class Percentage: 299.5345501588998\n",
            "Label 0 class Percentage: 0.4640436482267908\n"
          ],
          "name": "stdout"
        }
      ]
    },
    {
      "cell_type": "code",
      "metadata": {
        "colab": {
          "base_uri": "https://localhost:8080/",
          "height": 582
        },
        "id": "NNkD9yk5If_P",
        "outputId": "5bfd9e8e-47fc-4db5-e9bc-6ba2d961d5eb"
      },
      "source": [
        "#Classification using Logistic Regression\r\n",
        "logistic_regression = LogisticRegression()\r\n",
        "logistic_regression.fit(X_train,Y_train)\r\n",
        "Y_pred=logistic_regression.predict(X_test)\r\n",
        "confusion_matrix=pd.crosstab(Y_test,Y_pred,rownames=['Actual'],colnames=['Predicted'])\r\n",
        "sns.heatmap(confusion_matrix,annot=True)\r\n",
        "print('Accuracy:',metrics.accuracy_score(Y_test,Y_pred))\r\n",
        "plt.show()\r\n",
        "print(classification_report(Y_test, Y_pred)) "
      ],
      "execution_count": null,
      "outputs": [
        {
          "output_type": "stream",
          "text": [
            "/usr/local/lib/python3.6/dist-packages/sklearn/linear_model/_logistic.py:940: ConvergenceWarning: lbfgs failed to converge (status=1):\n",
            "STOP: TOTAL NO. of ITERATIONS REACHED LIMIT.\n",
            "\n",
            "Increase the number of iterations (max_iter) or scale the data as shown in:\n",
            "    https://scikit-learn.org/stable/modules/preprocessing.html\n",
            "Please also refer to the documentation for alternative solver options:\n",
            "    https://scikit-learn.org/stable/modules/linear_model.html#logistic-regression\n",
            "  extra_warning_msg=_LOGISTIC_SOLVER_CONVERGENCE_MSG)\n"
          ],
          "name": "stderr"
        },
        {
          "output_type": "stream",
          "text": [
            "Accuracy: 0.9993109654920269\n"
          ],
          "name": "stdout"
        },
        {
          "output_type": "display_data",
          "data": {
            "image/png": "[encoded data removed]",
            "text/plain": [
              "<Figure size 432x288 with 2 Axes>"
            ]
          },
          "metadata": {
            "tags": [],
            "needs_background": "light"
          }
        },
        {
          "output_type": "stream",
          "text": [
            "              precision    recall  f1-score   support\n",
            "\n",
            "           0       1.00      1.00      1.00     71004\n",
            "           1       0.79      0.76      0.77       110\n",
            "\n",
            "    accuracy                           1.00     71114\n",
            "   macro avg       0.89      0.88      0.89     71114\n",
            "weighted avg       1.00      1.00      1.00     71114\n",
            "\n"
          ],
          "name": "stdout"
        }
      ]
    },
    {
      "cell_type": "code",
      "metadata": {
        "colab": {
          "background_save": true
        },
        "id": "U2orkcUhrfCQ",
        "outputId": "ffcacba2-1287-4f1b-f6d7-0af35c8c00c7"
      },
      "source": [
        "#Classification using RandomForest Classifier\r\n",
        "Randomforest = RandomForestClassifier()\r\n",
        "Randomforest.fit(X_train,Y_train)\r\n",
        "Y_pred_rf=Randomforest.predict(X_test)\r\n",
        "confusion_matrix_rf=pd.crosstab(Y_test,Y_pred_rf,rownames=['Actual'],colnames=['Predicted'])\r\n",
        "sns.heatmap(confusion_matrix_rf,annot=True)\r\n",
        "print('Accuracy:',metrics.accuracy_score(Y_test,Y_pred_rf))\r\n",
        "plt.show()\r\n",
        "print(classification_report(Y_test, Y_pred)) "
      ],
      "execution_count": null,
      "outputs": [
        {
          "output_type": "stream",
          "text": [
            "Accuracy: 0.9996203279241781\n"
          ],
          "name": "stdout"
        },
        {
          "output_type": "display_data",
          "data": {
            "image/png": "[encoded data removed]",
            "text/plain": [
              "<Figure size 432x288 with 2 Axes>"
            ]
          },
          "metadata": {
            "tags": []
          }
        },
        {
          "output_type": "stream",
          "text": [
            "              precision    recall  f1-score   support\n",
            "\n",
            "           0       1.00      1.00      1.00     71004\n",
            "           1       0.79      0.76      0.77       110\n",
            "\n",
            "    accuracy                           1.00     71114\n",
            "   macro avg       0.89      0.88      0.89     71114\n",
            "weighted avg       1.00      1.00      1.00     71114\n",
            "\n"
          ],
          "name": "stdout"
        }
      ]
    },
    {
      "cell_type": "code",
      "metadata": {
        "colab": {
          "background_save": true
        },
        "id": "Q7d-I3TU-GzG",
        "outputId": "4d1f9038-91ea-4d89-8803-9d4aade38b5b"
      },
      "source": [
        "#Classification using DecisionTree Classifier\r\n",
        "dt = DecisionTreeClassifier()\r\n",
        "dt.fit(X_train,Y_train)\r\n",
        "Y_pred_dt=dt.predict(X_test)\r\n",
        "confusion_matrix_dt=pd.crosstab(Y_test,Y_pred_dt,rownames=['Actual'],colnames=['Predicted'])\r\n",
        "sns.heatmap(confusion_matrix_dt,annot=True)\r\n",
        "print('Accuracy:',metrics.accuracy_score(Y_test,Y_pred_dt))\r\n",
        "plt.show()\r\n",
        "print(classification_report(Y_test, Y_pred)) "
      ],
      "execution_count": null,
      "outputs": [
        {
          "output_type": "stream",
          "text": [
            "Accuracy: 0.9992547177770903\n"
          ],
          "name": "stdout"
        },
        {
          "output_type": "display_data",
          "data": {
            "image/png": "[encoded data removed]",
            "text/plain": [
              "<Figure size 432x288 with 2 Axes>"
            ]
          },
          "metadata": {
            "tags": []
          }
        },
        {
          "output_type": "stream",
          "text": [
            "              precision    recall  f1-score   support\n",
            "\n",
            "           0       1.00      1.00      1.00     71004\n",
            "           1       0.79      0.76      0.77       110\n",
            "\n",
            "    accuracy                           1.00     71114\n",
            "   macro avg       0.89      0.88      0.89     71114\n",
            "weighted avg       1.00      1.00      1.00     71114\n",
            "\n"
          ],
          "name": "stdout"
        }
      ]
    },
    {
      "cell_type": "code",
      "metadata": {
        "colab": {
          "base_uri": "https://localhost:8080/"
        },
        "id": "S3NB5UolkJti",
        "outputId": "7e450754-da0b-47e6-8230-15447bd60efd"
      },
      "source": [
        "#Resampling of data as data was imbalanced.\r\n",
        "print(\"Label 1 before Resampling,: \", sum(Y_train == 1)) \r\n",
        "print(\"Label 0 before Resampling: \", sum(Y_train == 0)) \r\n",
        "\r\n",
        "sm = SMOTE(random_state = 3) \r\n",
        "X_train_sm, Y_train_sm = sm.fit_sample(X_train, Y_train.ravel()) \r\n",
        "  \r\n",
        "print('Shape of train_X after Resampling : ', X_train_sm.shape) \r\n",
        "print('Shape of train_Y after Reampling,: \\n', Y_train_sm.shape) \r\n",
        "  \r\n",
        "print(\"Label 1 after Resampling,: \", sum(Y_train_sm == 1)) \r\n",
        "print(\"Label 0 after Resampling: \", sum(Y_train_sm == 0)) "
      ],
      "execution_count": null,
      "outputs": [
        {
          "output_type": "stream",
          "text": [
            "Label 1 before Resampling,:  330\n",
            "Label 0 before Resampling: \n",
            " 213011\n"
          ],
          "name": "stdout"
        },
        {
          "output_type": "stream",
          "text": [
            "/usr/local/lib/python3.6/dist-packages/sklearn/utils/deprecation.py:87: FutureWarning: Function safe_indexing is deprecated; safe_indexing is deprecated in version 0.22 and will be removed in version 0.24.\n",
            "  warnings.warn(msg, category=FutureWarning)\n"
          ],
          "name": "stderr"
        },
        {
          "output_type": "stream",
          "text": [
            "Shape of train_X after Resampling :  (426022, 30)\n",
            "Shape of train_Y after Reampling,: \n",
            " (426022,)\n",
            "Label 1 after Resampling,:  213011\n",
            "Label 0 after Resampling: \n",
            " 213011\n"
          ],
          "name": "stdout"
        }
      ]
    },
    {
      "cell_type": "code",
      "metadata": {
        "colab": {
          "base_uri": "https://localhost:8080/",
          "height": 582
        },
        "id": "4AygQE27mTYd",
        "outputId": "7c3e31cd-1891-491f-a858-e4b766482a79"
      },
      "source": [
        "#Classification using Logistic Regression after Resampling\r\n",
        "logistic_regression = LogisticRegression()\r\n",
        "logistic_regression.fit(X_train_sm,Y_train_sm)\r\n",
        "pred_lr_sm = logistic_regression.predict(X_test)\r\n",
        "confusionmat_lr_sm = pd.crosstab(Y_test,pred_lr_sm,rownames=['Actual'],colnames=['Predicted'])\r\n",
        "sns.heatmap(confusionmat_lr_sm, annot=True)\r\n",
        "print('Accuracy:',metrics.accuracy_score(Y_test,pred_lr_sm))\r\n",
        "plt.show()\r\n",
        "print(classification_report(Y_test, pred_lr_sm)) "
      ],
      "execution_count": null,
      "outputs": [
        {
          "output_type": "stream",
          "text": [
            "/usr/local/lib/python3.6/dist-packages/sklearn/linear_model/_logistic.py:940: ConvergenceWarning: lbfgs failed to converge (status=1):\n",
            "STOP: TOTAL NO. of ITERATIONS REACHED LIMIT.\n",
            "\n",
            "Increase the number of iterations (max_iter) or scale the data as shown in:\n",
            "    https://scikit-learn.org/stable/modules/preprocessing.html\n",
            "Please also refer to the documentation for alternative solver options:\n",
            "    https://scikit-learn.org/stable/modules/linear_model.html#logistic-regression\n",
            "  extra_warning_msg=_LOGISTIC_SOLVER_CONVERGENCE_MSG)\n"
          ],
          "name": "stderr"
        },
        {
          "output_type": "stream",
          "text": [
            "Accuracy: 0.9777962145287847\n"
          ],
          "name": "stdout"
        },
        {
          "output_type": "display_data",
          "data": {
            "image/png": "[encoded data removed]",
            "text/plain": [
              "<Figure size 432x288 with 2 Axes>"
            ]
          },
          "metadata": {
            "tags": [],
            "needs_background": "light"
          }
        },
        {
          "output_type": "stream",
          "text": [
            "              precision    recall  f1-score   support\n",
            "\n",
            "           0       1.00      0.98      0.99     71004\n",
            "           1       0.06      0.94      0.12       110\n",
            "\n",
            "    accuracy                           0.98     71114\n",
            "   macro avg       0.53      0.96      0.55     71114\n",
            "weighted avg       1.00      0.98      0.99     71114\n",
            "\n"
          ],
          "name": "stdout"
        }
      ]
    },
    {
      "cell_type": "code",
      "metadata": {
        "colab": {
          "base_uri": "https://localhost:8080/",
          "height": 448
        },
        "id": "8e5EX7Bnmgsf",
        "outputId": "07008d53-7c30-4487-d2dd-1c07aa485d30"
      },
      "source": [
        "#Classification using RandomForest Classifier after Resampling\r\n",
        "Randomforest = RandomForestClassifier()\r\n",
        "Randomforest.fit(X_train_sm,Y_train_sm)\r\n",
        "pred_rf_sm = Randomforest.predict(X_test)\r\n",
        "confusionmat_rf_sm = pd.crosstab(Y_test,pred_rf_sm,rownames=['Actual'],colnames=['Predicted'])\r\n",
        "sns.heatmap(confusionmat_rf_sm,annot=True)\r\n",
        "print('Accuracy:',metrics.accuracy_score(Y_test, pred_rf_sm))\r\n",
        "plt.show()\r\n",
        "print(classification_report(Y_test, pred_rf_sm))"
      ],
      "execution_count": null,
      "outputs": [
        {
          "output_type": "stream",
          "text": [
            "Accuracy: 0.9996062659954439\n"
          ],
          "name": "stdout"
        },
        {
          "output_type": "display_data",
          "data": {
            "image/png": "[encoded data removed]",
            "text/plain": [
              "<Figure size 432x288 with 2 Axes>"
            ]
          },
          "metadata": {
            "tags": [],
            "needs_background": "light"
          }
        },
        {
          "output_type": "stream",
          "text": [
            "              precision    recall  f1-score   support\n",
            "\n",
            "           0       1.00      1.00      1.00     71004\n",
            "           1       0.87      0.87      0.87       110\n",
            "\n",
            "    accuracy                           1.00     71114\n",
            "   macro avg       0.94      0.94      0.94     71114\n",
            "weighted avg       1.00      1.00      1.00     71114\n",
            "\n"
          ],
          "name": "stdout"
        }
      ]
    },
    {
      "cell_type": "code",
      "metadata": {
        "colab": {
          "base_uri": "https://localhost:8080/",
          "height": 449
        },
        "id": "fiF41TnNnSkQ",
        "outputId": "399743c6-511d-4d45-f796-86db4190d451"
      },
      "source": [
        "#Classification using DecisionTree Classifier after Resampling\r\n",
        "dt = DecisionTreeClassifier()\r\n",
        "dt.fit(X_train_sm,Y_train_sm)\r\n",
        "pred_dt_sm = dt.predict(X_test)\r\n",
        "confusionmat_dt_sm = pd.crosstab(Y_test,pred_dt_sm,rownames=['Actual'],colnames=['Predicted'])\r\n",
        "sns.heatmap(confusionmat_dt_sm,annot=True)\r\n",
        "print('Accuracy:',metrics.accuracy_score(Y_test, pred_dt_sm))\r\n",
        "plt.show()\r\n",
        "print(classification_report(Y_test, pred_dt_sm)) "
      ],
      "execution_count": null,
      "outputs": [
        {
          "output_type": "stream",
          "text": [
            "Accuracy: 0.9979891441910173\n"
          ],
          "name": "stdout"
        },
        {
          "output_type": "display_data",
          "data": {
            "image/png": "[encoded data removed]",
            "text/plain": [
              "<Figure size 432x288 with 2 Axes>"
            ]
          },
          "metadata": {
            "tags": [],
            "needs_background": "light"
          }
        },
        {
          "output_type": "stream",
          "text": [
            "              precision    recall  f1-score   support\n",
            "\n",
            "           0       1.00      1.00      1.00     71004\n",
            "           1       0.42      0.85      0.57       110\n",
            "\n",
            "    accuracy                           1.00     71114\n",
            "   macro avg       0.71      0.92      0.78     71114\n",
            "weighted avg       1.00      1.00      1.00     71114\n",
            "\n"
          ],
          "name": "stdout"
        }
      ]
    },
    {
      "cell_type": "code",
      "metadata": {
        "id": "pk7NeCANtjHh"
      },
      "source": [
        "#load test data\r\n",
        "test_df = pd.read_csv(\"/content/drive/MyDrive/Datasets/machine_learning_india_ai_challenge-dataset/TEST.csv\")"
      ],
      "execution_count": null,
      "outputs": []
    },
    {
      "cell_type": "code",
      "metadata": {
        "colab": {
          "base_uri": "https://localhost:8080/",
          "height": 195
        },
        "id": "83V6Xe2iuoG7",
        "outputId": "246889a9-4b3b-48c4-8af3-14313b841653"
      },
      "source": [
        "fraud_detect = Randomforest.predict(test_df)\r\n",
        "fraud_prediction = pd.DataFrame(data=fraud_detect, columns=[\"Class\"])\r\n",
        "fraud_prediction.head()"
      ],
      "execution_count": null,
      "outputs": [
        {
          "output_type": "execute_result",
          "data": {
            "text/html": [
              "<div>\n",
              "<style scoped>\n",
              "    .dataframe tbody tr th:only-of-type {\n",
              "        vertical-align: middle;\n",
              "    }\n",
              "\n",
              "    .dataframe tbody tr th {\n",
              "        vertical-align: top;\n",
              "    }\n",
              "\n",
              "    .dataframe thead th {\n",
              "        text-align: right;\n",
              "    }\n",
              "</style>\n",
              "<table border=\"1\" class=\"dataframe\">\n",
              "  <thead>\n",
              "    <tr style=\"text-align: right;\">\n",
              "      <th></th>\n",
              "      <th>Class</th>\n",
              "    </tr>\n",
              "  </thead>\n",
              "  <tbody>\n",
              "    <tr>\n",
              "      <th>0</th>\n",
              "      <td>0</td>\n",
              "    </tr>\n",
              "    <tr>\n",
              "      <th>1</th>\n",
              "      <td>0</td>\n",
              "    </tr>\n",
              "    <tr>\n",
              "      <th>2</th>\n",
              "      <td>0</td>\n",
              "    </tr>\n",
              "    <tr>\n",
              "      <th>3</th>\n",
              "      <td>1</td>\n",
              "    </tr>\n",
              "    <tr>\n",
              "      <th>4</th>\n",
              "      <td>0</td>\n",
              "    </tr>\n",
              "  </tbody>\n",
              "</table>\n",
              "</div>"
            ],
            "text/plain": [
              "   Class\n",
              "0      0\n",
              "1      0\n",
              "2      0\n",
              "3      1\n",
              "4      0"
            ]
          },
          "metadata": {
            "tags": []
          },
          "execution_count": 74
        }
      ]
    },
    {
      "cell_type": "code",
      "metadata": {
        "colab": {
          "base_uri": "https://localhost:8080/",
          "height": 195
        },
        "id": "enOYnkcCwOXi",
        "outputId": "2dd49ab8-cfe2-4e9b-df48-af5438885d05"
      },
      "source": [
        "test_df_index = test_df[[\"Index\"]].copy()\r\n",
        "test_df_index.head()"
      ],
      "execution_count": null,
      "outputs": [
        {
          "output_type": "execute_result",
          "data": {
            "text/html": [
              "<div>\n",
              "<style scoped>\n",
              "    .dataframe tbody tr th:only-of-type {\n",
              "        vertical-align: middle;\n",
              "    }\n",
              "\n",
              "    .dataframe tbody tr th {\n",
              "        vertical-align: top;\n",
              "    }\n",
              "\n",
              "    .dataframe thead th {\n",
              "        text-align: right;\n",
              "    }\n",
              "</style>\n",
              "<table border=\"1\" class=\"dataframe\">\n",
              "  <thead>\n",
              "    <tr style=\"text-align: right;\">\n",
              "      <th></th>\n",
              "      <th>Index</th>\n",
              "    </tr>\n",
              "  </thead>\n",
              "  <tbody>\n",
              "    <tr>\n",
              "      <th>0</th>\n",
              "      <td>0</td>\n",
              "    </tr>\n",
              "    <tr>\n",
              "      <th>1</th>\n",
              "      <td>1</td>\n",
              "    </tr>\n",
              "    <tr>\n",
              "      <th>2</th>\n",
              "      <td>2</td>\n",
              "    </tr>\n",
              "    <tr>\n",
              "      <th>3</th>\n",
              "      <td>3</td>\n",
              "    </tr>\n",
              "    <tr>\n",
              "      <th>4</th>\n",
              "      <td>4</td>\n",
              "    </tr>\n",
              "  </tbody>\n",
              "</table>\n",
              "</div>"
            ],
            "text/plain": [
              "   Index\n",
              "0      0\n",
              "1      1\n",
              "2      2\n",
              "3      3\n",
              "4      4"
            ]
          },
          "metadata": {
            "tags": []
          },
          "execution_count": 76
        }
      ]
    },
    {
      "cell_type": "code",
      "metadata": {
        "colab": {
          "base_uri": "https://localhost:8080/",
          "height": 195
        },
        "id": "OhlRrUXCtAuO",
        "outputId": "40feb9bc-4d09-4157-ea49-f22733136cd4"
      },
      "source": [
        "final_prediction_df = pd.concat([test_df_index, fraud_prediction], axis=1, sort=True)\r\n",
        "final_prediction_df.head()"
      ],
      "execution_count": null,
      "outputs": [
        {
          "output_type": "execute_result",
          "data": {
            "text/html": [
              "<div>\n",
              "<style scoped>\n",
              "    .dataframe tbody tr th:only-of-type {\n",
              "        vertical-align: middle;\n",
              "    }\n",
              "\n",
              "    .dataframe tbody tr th {\n",
              "        vertical-align: top;\n",
              "    }\n",
              "\n",
              "    .dataframe thead th {\n",
              "        text-align: right;\n",
              "    }\n",
              "</style>\n",
              "<table border=\"1\" class=\"dataframe\">\n",
              "  <thead>\n",
              "    <tr style=\"text-align: right;\">\n",
              "      <th></th>\n",
              "      <th>Index</th>\n",
              "      <th>Class</th>\n",
              "    </tr>\n",
              "  </thead>\n",
              "  <tbody>\n",
              "    <tr>\n",
              "      <th>0</th>\n",
              "      <td>0</td>\n",
              "      <td>0</td>\n",
              "    </tr>\n",
              "    <tr>\n",
              "      <th>1</th>\n",
              "      <td>1</td>\n",
              "      <td>0</td>\n",
              "    </tr>\n",
              "    <tr>\n",
              "      <th>2</th>\n",
              "      <td>2</td>\n",
              "      <td>0</td>\n",
              "    </tr>\n",
              "    <tr>\n",
              "      <th>3</th>\n",
              "      <td>3</td>\n",
              "      <td>1</td>\n",
              "    </tr>\n",
              "    <tr>\n",
              "      <th>4</th>\n",
              "      <td>4</td>\n",
              "      <td>0</td>\n",
              "    </tr>\n",
              "  </tbody>\n",
              "</table>\n",
              "</div>"
            ],
            "text/plain": [
              "   Index  Class\n",
              "0      0      0\n",
              "1      1      0\n",
              "2      2      0\n",
              "3      3      1\n",
              "4      4      0"
            ]
          },
          "metadata": {
            "tags": []
          },
          "execution_count": 77
        }
      ]
    },
    {
      "cell_type": "code",
      "metadata": {
        "id": "e_WlyIcxwx9T"
      },
      "source": [
        "final_prediction_df.to_csv('/content/fraudelent_prediction_model.csv', index=False)"
      ],
      "execution_count": null,
      "outputs": []
    }
  ]
}